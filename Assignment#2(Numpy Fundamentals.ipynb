{
 "cells": [
  {
   "cell_type": "markdown",
   "metadata": {},
   "source": [
    "# Name : Muhammad Usman Khan\n",
    "\n",
    "# Roll No. : PIAIC79201"
   ]
  },
  {
   "cell_type": "markdown",
   "metadata": {},
   "source": [
    "# Numpy_Assignment_2::"
   ]
  },
  {
   "cell_type": "markdown",
   "metadata": {},
   "source": [
    "## Question:1"
   ]
  },
  {
   "cell_type": "markdown",
   "metadata": {},
   "source": [
    "### Convert a 1D array to a 2D array with 2 rows?"
   ]
  },
  {
   "cell_type": "markdown",
   "metadata": {},
   "source": [
    "#### Desired output::"
   ]
  },
  {
   "cell_type": "markdown",
   "metadata": {},
   "source": [
    "array([[0, 1, 2, 3, 4],\n",
    "        [5, 6, 7, 8, 9]])"
   ]
  },
  {
   "cell_type": "code",
   "execution_count": 9,
   "metadata": {},
   "outputs": [
    {
     "name": "stdout",
     "output_type": "stream",
     "text": [
      "1D Array:  [0 1 2 3 4 5 6 7 8 9] \n",
      "\n",
      "Array Dimension:  1 \n",
      "\n",
      "2D Array: \n",
      " [[0 1 2 3 4]\n",
      " [5 6 7 8 9]]\n",
      "Array Dimension:  2\n"
     ]
    }
   ],
   "source": [
    "import numpy as np\n",
    "arr=np.arange(10)\n",
    "print(\"1D Array: \",arr,\"\\n\")\n",
    "print(\"Array Dimension: \",arr.ndim,\"\\n\")\n",
    "arr1=arr.reshape(2,5)\n",
    "print(\"2D Array: \\n\",arr1)\n",
    "print(\"Array Dimension: \",arr1.ndim)"
   ]
  },
  {
   "cell_type": "markdown",
   "metadata": {},
   "source": [
    "## Question:2"
   ]
  },
  {
   "cell_type": "markdown",
   "metadata": {},
   "source": [
    "###  How to stack two arrays vertically?"
   ]
  },
  {
   "cell_type": "markdown",
   "metadata": {},
   "source": [
    "#### Desired Output::"
   ]
  },
  {
   "cell_type": "raw",
   "metadata": {},
   "source": [
    "array([[0, 1, 2, 3, 4],\n",
    "        [5, 6, 7, 8, 9],\n",
    "       [1, 1, 1, 1, 1],\n",
    "       [1, 1, 1, 1, 1]])"
   ]
  },
  {
   "cell_type": "code",
   "execution_count": 13,
   "metadata": {},
   "outputs": [
    {
     "name": "stdout",
     "output_type": "stream",
     "text": [
      "Two Vertically Stack Arrays: \n",
      "\n"
     ]
    },
    {
     "data": {
      "text/plain": [
       "array([[0, 1, 2, 3, 4],\n",
       "       [5, 6, 7, 8, 9],\n",
       "       [1, 1, 1, 1, 1],\n",
       "       [1, 1, 1, 1, 1]])"
      ]
     },
     "execution_count": 13,
     "metadata": {},
     "output_type": "execute_result"
    }
   ],
   "source": [
    "import numpy as np\n",
    "arr1=np.arange(10).reshape(2,5)\n",
    "arr2=np.ones(10).reshape(2,5)\n",
    "stacking=np.vstack((arr1,arr2))\n",
    "print(\"Two Vertically Stack Arrays: \\n\")\n",
    "stacking.astype(\"int32\")"
   ]
  },
  {
   "cell_type": "markdown",
   "metadata": {},
   "source": [
    "## Question:3"
   ]
  },
  {
   "cell_type": "markdown",
   "metadata": {},
   "source": [
    "### How to stack two arrays horizontally?"
   ]
  },
  {
   "cell_type": "markdown",
   "metadata": {},
   "source": [
    "#### Desired Output::"
   ]
  },
  {
   "cell_type": "raw",
   "metadata": {},
   "source": [
    "array([[0, 1, 2, 3, 4, 1, 1, 1, 1, 1],\n",
    "       [5, 6, 7, 8, 9, 1, 1, 1, 1, 1]])"
   ]
  },
  {
   "cell_type": "code",
   "execution_count": 15,
   "metadata": {},
   "outputs": [
    {
     "name": "stdout",
     "output_type": "stream",
     "text": [
      "Two Horizontically Stack Array :\n",
      "\n"
     ]
    },
    {
     "data": {
      "text/plain": [
       "array([[0, 1, 2, 3, 4, 1, 1, 1, 1, 1],\n",
       "       [5, 6, 7, 8, 9, 1, 1, 1, 1, 1]])"
      ]
     },
     "execution_count": 15,
     "metadata": {},
     "output_type": "execute_result"
    }
   ],
   "source": [
    "arr1=np.arange(10).reshape(2,5)\n",
    "arr2=np.ones(10).reshape(2,5)\n",
    "stacking=np.hstack((arr1,arr2))\n",
    "print(\"Two Horizontically Stack Array :\\n\")\n",
    "stacking.astype(\"int32\")"
   ]
  },
  {
   "cell_type": "markdown",
   "metadata": {},
   "source": [
    "## Question:4"
   ]
  },
  {
   "cell_type": "markdown",
   "metadata": {},
   "source": [
    "### How to convert an array of arrays into a flat 1d array?"
   ]
  },
  {
   "cell_type": "markdown",
   "metadata": {},
   "source": [
    "#### Desired Output::"
   ]
  },
  {
   "cell_type": "raw",
   "metadata": {},
   "source": [
    "array([0, 1, 2, 3, 4, 5, 6, 7, 8, 9])"
   ]
  },
  {
   "cell_type": "code",
   "execution_count": 22,
   "metadata": {},
   "outputs": [
    {
     "name": "stdout",
     "output_type": "stream",
     "text": [
      "Original Array : \n",
      "\n",
      "[[0 1]\n",
      " [2 3]\n",
      " [4 5]\n",
      " [6 7]\n",
      " [8 9]]\n",
      "\n",
      "1D Array: \n",
      "\n"
     ]
    },
    {
     "data": {
      "text/plain": [
       "array([0, 1, 2, 3, 4, 5, 6, 7, 8, 9])"
      ]
     },
     "execution_count": 22,
     "metadata": {},
     "output_type": "execute_result"
    }
   ],
   "source": [
    "arr=np.arange(10).reshape(5,2)\n",
    "print(\"Original Array : \\n\")\n",
    "print(arr)\n",
    "arr1=np.ravel(arr)\n",
    "print(\"\\n1D Array: \\n\")\n",
    "arr1"
   ]
  },
  {
   "cell_type": "markdown",
   "metadata": {},
   "source": [
    "## Question:5"
   ]
  },
  {
   "cell_type": "markdown",
   "metadata": {},
   "source": [
    "### How to Convert higher dimension into one dimension?"
   ]
  },
  {
   "cell_type": "markdown",
   "metadata": {},
   "source": [
    "#### Desired Output::"
   ]
  },
  {
   "cell_type": "raw",
   "metadata": {},
   "source": [
    "array([ 0, 1, 2, 3, 4, 5, 6, 7, 8, 9, 10, 11, 12, 13, 14])"
   ]
  },
  {
   "cell_type": "code",
   "execution_count": 27,
   "metadata": {},
   "outputs": [
    {
     "name": "stdout",
     "output_type": "stream",
     "text": [
      "Original Array :\n",
      "\n",
      "[[[ 0]\n",
      "  [ 1]\n",
      "  [ 2]\n",
      "  [ 3]\n",
      "  [ 4]]\n",
      "\n",
      " [[ 5]\n",
      "  [ 6]\n",
      "  [ 7]\n",
      "  [ 8]\n",
      "  [ 9]]\n",
      "\n",
      " [[10]\n",
      "  [11]\n",
      "  [12]\n",
      "  [13]\n",
      "  [14]]]\n",
      "\n",
      "One Dimensional Array: \n",
      "\n"
     ]
    },
    {
     "data": {
      "text/plain": [
       "array([ 0,  1,  2,  3,  4,  5,  6,  7,  8,  9, 10, 11, 12, 13, 14])"
      ]
     },
     "execution_count": 27,
     "metadata": {},
     "output_type": "execute_result"
    }
   ],
   "source": [
    "arr=np.arange(15).reshape(3,5,1)\n",
    "print(\"Original Array :\\n\")\n",
    "print(arr)\n",
    "arr1=np.ravel(arr)\n",
    "print(\"\\nOne Dimensional Array: \\n\")\n",
    "arr1"
   ]
  },
  {
   "cell_type": "markdown",
   "metadata": {},
   "source": [
    "## Question:6"
   ]
  },
  {
   "cell_type": "markdown",
   "metadata": {},
   "source": [
    "### Convert one dimension to higher dimension?"
   ]
  },
  {
   "cell_type": "markdown",
   "metadata": {},
   "source": [
    "#### Desired Output::"
   ]
  },
  {
   "cell_type": "raw",
   "metadata": {},
   "source": [
    "array([[ 0, 1, 2],\n",
    "[ 3, 4, 5],\n",
    "[ 6, 7, 8],\n",
    "[ 9, 10, 11],\n",
    "[12, 13, 14]])"
   ]
  },
  {
   "cell_type": "code",
   "execution_count": 29,
   "metadata": {},
   "outputs": [
    {
     "name": "stdout",
     "output_type": "stream",
     "text": [
      "One Dinansional Array :\n",
      "\n",
      "[ 0  1  2  3  4  5  6  7  8  9 10 11 12 13 14]\n",
      "\n",
      "Higher Dimensional Array :\n",
      "\n"
     ]
    },
    {
     "data": {
      "text/plain": [
       "array([[ 0,  1,  2],\n",
       "       [ 3,  4,  5],\n",
       "       [ 6,  7,  8],\n",
       "       [ 9, 10, 11],\n",
       "       [12, 13, 14]])"
      ]
     },
     "execution_count": 29,
     "metadata": {},
     "output_type": "execute_result"
    }
   ],
   "source": [
    "arr=np.arange(15)\n",
    "print(\"One Dinansional Array :\\n\")\n",
    "print(arr)\n",
    "arr1=arr.reshape(5,3)\n",
    "print(\"\\nHigher Dimensional Array :\\n\")\n",
    "arr1"
   ]
  },
  {
   "cell_type": "markdown",
   "metadata": {},
   "source": [
    "## Question:7"
   ]
  },
  {
   "cell_type": "markdown",
   "metadata": {},
   "source": [
    "### Create 5x5 an array and find the square of an array?"
   ]
  },
  {
   "cell_type": "code",
   "execution_count": 32,
   "metadata": {},
   "outputs": [
    {
     "name": "stdout",
     "output_type": "stream",
     "text": [
      "Original Array :\n",
      "\n",
      "[[ 0  1  2  3  4]\n",
      " [ 5  6  7  8  9]\n",
      " [10 11 12 13 14]\n",
      " [15 16 17 18 19]\n",
      " [20 21 22 23 24]]\n",
      "\n",
      "Square Root of an Array :\n",
      "\n",
      "[[0.         1.         1.41421356 1.73205081 2.        ]\n",
      " [2.23606798 2.44948974 2.64575131 2.82842712 3.        ]\n",
      " [3.16227766 3.31662479 3.46410162 3.60555128 3.74165739]\n",
      " [3.87298335 4.         4.12310563 4.24264069 4.35889894]\n",
      " [4.47213595 4.58257569 4.69041576 4.79583152 4.89897949]]\n"
     ]
    }
   ],
   "source": [
    "arr=np.arange(25).reshape(5,5)\n",
    "print(\"Original Array :\\n\")\n",
    "print(arr)\n",
    "arr1=np.sqrt(arr)\n",
    "print(\"\\nSquare Root of an Array :\\n\")\n",
    "print(arr1)"
   ]
  },
  {
   "cell_type": "markdown",
   "metadata": {},
   "source": [
    "## Question:8"
   ]
  },
  {
   "cell_type": "markdown",
   "metadata": {},
   "source": [
    "### Create 5x6 an array and find the mean?"
   ]
  },
  {
   "cell_type": "code",
   "execution_count": 36,
   "metadata": {},
   "outputs": [
    {
     "name": "stdout",
     "output_type": "stream",
     "text": [
      "Original Array :\n",
      "\n",
      "[[ 0  1  2  3  4  5]\n",
      " [ 6  7  8  9 10 11]\n",
      " [12 13 14 15 16 17]\n",
      " [18 19 20 21 22 23]\n",
      " [24 25 26 27 28 29]]\n",
      "\n",
      "Mean of an Array :\n",
      "\n",
      "14.5\n"
     ]
    }
   ],
   "source": [
    "arr=np.arange(30).reshape(5,6)\n",
    "print(\"Original Array :\\n\")\n",
    "print(arr)\n",
    "arr1=np.mean(arr)\n",
    "print(\"\\nMean of an Array :\\n\")\n",
    "print(arr1)"
   ]
  },
  {
   "cell_type": "markdown",
   "metadata": {},
   "source": [
    "## Question:9"
   ]
  },
  {
   "cell_type": "markdown",
   "metadata": {},
   "source": [
    "### Find the standard deviation of the previous array in Q8?"
   ]
  },
  {
   "cell_type": "code",
   "execution_count": 42,
   "metadata": {},
   "outputs": [
    {
     "name": "stdout",
     "output_type": "stream",
     "text": [
      "Standard Deviation of an Array: \n",
      "\n",
      "8.65544144839919\n"
     ]
    }
   ],
   "source": [
    "arr1=np.std(arr)\n",
    "print(\"Standard Deviation of an Array: \\n\")\n",
    "print(arr1)"
   ]
  },
  {
   "cell_type": "markdown",
   "metadata": {},
   "source": [
    "## Question:10"
   ]
  },
  {
   "cell_type": "markdown",
   "metadata": {},
   "source": [
    "### Find the median of the previous array in Q8?"
   ]
  },
  {
   "cell_type": "code",
   "execution_count": 44,
   "metadata": {},
   "outputs": [
    {
     "name": "stdout",
     "output_type": "stream",
     "text": [
      "Median of an Array :\n",
      "\n",
      "14.5\n"
     ]
    }
   ],
   "source": [
    "arr1=np.median(arr)\n",
    "print(\"Median of an Array :\\n\")\n",
    "print(arr1)"
   ]
  },
  {
   "cell_type": "markdown",
   "metadata": {},
   "source": [
    "## Question:11"
   ]
  },
  {
   "cell_type": "markdown",
   "metadata": {},
   "source": [
    "### Find the transpose of the previous array in Q8?"
   ]
  },
  {
   "cell_type": "code",
   "execution_count": 45,
   "metadata": {},
   "outputs": [
    {
     "name": "stdout",
     "output_type": "stream",
     "text": [
      "Original Array :\n",
      "\n",
      "[[ 0  1  2  3  4  5]\n",
      " [ 6  7  8  9 10 11]\n",
      " [12 13 14 15 16 17]\n",
      " [18 19 20 21 22 23]\n",
      " [24 25 26 27 28 29]]\n",
      "\n",
      "Transpose of an Array :\n",
      "\n",
      "[[ 0  6 12 18 24]\n",
      " [ 1  7 13 19 25]\n",
      " [ 2  8 14 20 26]\n",
      " [ 3  9 15 21 27]\n",
      " [ 4 10 16 22 28]\n",
      " [ 5 11 17 23 29]]\n"
     ]
    }
   ],
   "source": [
    "print(\"Original Array :\\n\")\n",
    "print(arr)\n",
    "arr1=arr.T\n",
    "print(\"\\nTranspose of an Array :\\n\")\n",
    "print(arr1)"
   ]
  },
  {
   "cell_type": "markdown",
   "metadata": {},
   "source": [
    "## Question:12"
   ]
  },
  {
   "cell_type": "markdown",
   "metadata": {},
   "source": [
    "### Create a 4x4 an array and find the sum of diagonal elements?"
   ]
  },
  {
   "cell_type": "code",
   "execution_count": 52,
   "metadata": {},
   "outputs": [
    {
     "name": "stdout",
     "output_type": "stream",
     "text": [
      "Original Array :\n",
      "\n",
      "[[ 0  1  2  3]\n",
      " [ 4  5  6  7]\n",
      " [ 8  9 10 11]\n",
      " [12 13 14 15]]\n",
      "\n",
      "Sum of Diahonal Elements\n",
      "\n",
      "30\n"
     ]
    }
   ],
   "source": [
    "arr=np.arange(16).reshape(4,4)\n",
    "print(\"Original Array :\\n\")\n",
    "print(arr)\n",
    "arr1=np.trace(arr)\n",
    "print(\"\\nSum of Diahonal Elements\\n\")\n",
    "print(arr1)"
   ]
  },
  {
   "cell_type": "markdown",
   "metadata": {},
   "source": [
    "## Question:13"
   ]
  },
  {
   "cell_type": "markdown",
   "metadata": {},
   "source": [
    "### Find the determinant of the previous array in Q12?"
   ]
  },
  {
   "cell_type": "code",
   "execution_count": 59,
   "metadata": {},
   "outputs": [
    {
     "name": "stdout",
     "output_type": "stream",
     "text": [
      "Original Array :\n",
      "\n",
      "[[ 0  1  2  3]\n",
      " [ 4  5  6  7]\n",
      " [ 8  9 10 11]\n",
      " [12 13 14 15]]\n",
      "\n",
      "Determinant of an Array :\n",
      "\n",
      "0.0\n"
     ]
    }
   ],
   "source": [
    "print(\"Original Array :\\n\")\n",
    "print(arr)\n",
    "arr1=np.linalg.det(arr)\n",
    "print(\"\\nDeterminant of an Array :\\n\")\n",
    "print(arr1)"
   ]
  },
  {
   "cell_type": "markdown",
   "metadata": {},
   "source": [
    "## Question:14"
   ]
  },
  {
   "cell_type": "markdown",
   "metadata": {},
   "source": [
    "### Find the 5th and 95th percentile of an array?"
   ]
  },
  {
   "cell_type": "code",
   "execution_count": 61,
   "metadata": {},
   "outputs": [
    {
     "name": "stdout",
     "output_type": "stream",
     "text": [
      "Original Array :\n",
      "\n",
      "[0 1 2 3 4 5 6 7 8 9]\n",
      "\n",
      "5th Percntile of an Array :\n",
      " 0.45\n",
      "\n",
      "95th Percntile of an Array :\n",
      " 8.549999999999999\n"
     ]
    }
   ],
   "source": [
    "arr=np.arange(10)\n",
    "print(\"Original Array :\\n\")\n",
    "print(arr)\n",
    "arr1=np.percentile(arr,5)\n",
    "arr2=np.percentile(arr,95)\n",
    "print(\"\\n5th Percntile of an Array :\\n\",arr1)\n",
    "print(\"\\n95th Percntile of an Array :\\n\",arr2)"
   ]
  },
  {
   "cell_type": "markdown",
   "metadata": {},
   "source": [
    "## Question:15"
   ]
  },
  {
   "cell_type": "markdown",
   "metadata": {},
   "source": [
    "### How to find if a given array has any null values?"
   ]
  },
  {
   "cell_type": "code",
   "execution_count": 81,
   "metadata": {},
   "outputs": [
    {
     "name": "stdout",
     "output_type": "stream",
     "text": [
      "[0. 0. 0. 0. 0.]\n",
      "[0 1 2 3 4]\n",
      "[nan nan nan nan nan]\n",
      "\n",
      "If any True Retuns then it will be a Null Array\n",
      "\n",
      "[False False False False False]\n",
      "[False False False False False]\n",
      "[ True  True  True  True  True]\n"
     ]
    }
   ],
   "source": [
    "arr1=np.zeros(5)\n",
    "arr2=np.arange(5)\n",
    "arr3=np.empty((5))\n",
    "arr3[:]=np.NaN\n",
    "print(arr1)\n",
    "print(arr2)\n",
    "print(arr3)\n",
    "print(\"\\nIf any True Retuns then it will be a Null Array\\n\")\n",
    "print(np.isnan(arr1))\n",
    "print(np.isnan(arr2))\n",
    "print(np.isnan(arr3))"
   ]
  }
 ],
 "metadata": {
  "kernelspec": {
   "display_name": "Python 3",
   "language": "python",
   "name": "python3"
  },
  "language_info": {
   "codemirror_mode": {
    "name": "ipython",
    "version": 3
   },
   "file_extension": ".py",
   "mimetype": "text/x-python",
   "name": "python",
   "nbconvert_exporter": "python",
   "pygments_lexer": "ipython3",
   "version": "3.7.4"
  }
 },
 "nbformat": 4,
 "nbformat_minor": 2
}
